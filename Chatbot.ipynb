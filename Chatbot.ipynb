{
 "cells": [
  {
   "cell_type": "code",
   "execution_count": 1,
   "id": "b3e11d12-3a40-4f11-af96-a6a1c0d25377",
   "metadata": {},
   "outputs": [
    {
     "name": "stdin",
     "output_type": "stream",
     "text": [
      "Enter your Message:  Hey\n"
     ]
    },
    {
     "name": "stdout",
     "output_type": "stream",
     "text": [
      "Hey! How may I help you\n"
     ]
    },
    {
     "name": "stdin",
     "output_type": "stream",
     "text": [
      "Enter your Message:  How are you?\n"
     ]
    },
    {
     "name": "stdout",
     "output_type": "stream",
     "text": [
      "I'm Good. What about you\n"
     ]
    },
    {
     "name": "stdin",
     "output_type": "stream",
     "text": [
      "Enter your Message:  What is your Name?\n"
     ]
    },
    {
     "name": "stdout",
     "output_type": "stream",
     "text": [
      "My name is Anusha\n"
     ]
    },
    {
     "name": "stdin",
     "output_type": "stream",
     "text": [
      "Enter your Message:  What is your Father name?\n"
     ]
    },
    {
     "name": "stdout",
     "output_type": "stream",
     "text": [
      "My father name is Muhammad Iqbal\n"
     ]
    },
    {
     "name": "stdin",
     "output_type": "stream",
     "text": [
      "Enter your Message:  What is your age?\n"
     ]
    },
    {
     "name": "stdout",
     "output_type": "stream",
     "text": [
      "Incorrect Information. Data Not Found in Database...\n"
     ]
    },
    {
     "name": "stdin",
     "output_type": "stream",
     "text": [
      "Enter your Message:  What is your Age?\n"
     ]
    },
    {
     "name": "stdout",
     "output_type": "stream",
     "text": [
      "My age is 23 years old\n"
     ]
    },
    {
     "name": "stdin",
     "output_type": "stream",
     "text": [
      "Enter your Message:  What is your Gender?\n"
     ]
    },
    {
     "name": "stdout",
     "output_type": "stream",
     "text": [
      "I am a Female\n"
     ]
    },
    {
     "name": "stdin",
     "output_type": "stream",
     "text": [
      "Enter your Message:  What is your Qualification?\n"
     ]
    },
    {
     "name": "stdout",
     "output_type": "stream",
     "text": [
      "I have done BSCS\n"
     ]
    },
    {
     "name": "stdin",
     "output_type": "stream",
     "text": [
      "Enter your Message:  What is your Interests?\n"
     ]
    },
    {
     "name": "stdout",
     "output_type": "stream",
     "text": [
      "Reading novels, Shopping, Listening music\n"
     ]
    },
    {
     "name": "stdin",
     "output_type": "stream",
     "text": [
      "Enter your Message:  What is your Biggest fear?\n"
     ]
    },
    {
     "name": "stdout",
     "output_type": "stream",
     "text": [
      "Incorrect Information. Data Not Found in Database...\n"
     ]
    },
    {
     "name": "stdin",
     "output_type": "stream",
     "text": [
      "Enter your Message:  What is your Biggest Fear?\n"
     ]
    },
    {
     "name": "stdout",
     "output_type": "stream",
     "text": [
      "Not fulfilling my true potential\n"
     ]
    },
    {
     "name": "stdin",
     "output_type": "stream",
     "text": [
      "Enter your Message:  What is your Strength?\n"
     ]
    },
    {
     "name": "stdout",
     "output_type": "stream",
     "text": [
      "self confident, productive, optimistic\n"
     ]
    },
    {
     "name": "stdin",
     "output_type": "stream",
     "text": [
      "Enter your Message:  What is your Weakness?\n"
     ]
    },
    {
     "name": "stdout",
     "output_type": "stream",
     "text": [
      "Being more emotional\n"
     ]
    },
    {
     "name": "stdin",
     "output_type": "stream",
     "text": [
      "Enter your Message:  What is your Skills?\n"
     ]
    },
    {
     "name": "stdout",
     "output_type": "stream",
     "text": [
      "Responsible, Hard worker, Creative, Quick learner, Organised, Motivated\n"
     ]
    },
    {
     "name": "stdin",
     "output_type": "stream",
     "text": [
      "Enter your Message:  What things make you different from others?\n"
     ]
    },
    {
     "name": "stdout",
     "output_type": "stream",
     "text": [
      "Personality traits, morals and values, Adapt quiclky, Behavior\n"
     ]
    },
    {
     "name": "stdin",
     "output_type": "stream",
     "text": [
      "Enter your Message:  Where do you live?\n"
     ]
    },
    {
     "name": "stdout",
     "output_type": "stream",
     "text": [
      "I live in Karachi\n"
     ]
    },
    {
     "name": "stdin",
     "output_type": "stream",
     "text": [
      "Enter your Message:  What are 3 words that describe you best?\n"
     ]
    },
    {
     "name": "stdout",
     "output_type": "stream",
     "text": [
      "Practical, Energetic, Easy going\n"
     ]
    },
    {
     "name": "stdin",
     "output_type": "stream",
     "text": [
      "Enter your Message:  exit\n"
     ]
    }
   ],
   "source": [
    "# chatBot with multiple conditional statements:\n",
    "\n",
    "while True:\n",
    "  user = input(\"Enter your Message: \")\n",
    "  if user == \"Hey\":\n",
    "    print(\"Hey! How may I help you\")\n",
    "\n",
    "  elif user == \"How are you?\":\n",
    "    print(\"I'm Good. What about you\")\n",
    "\n",
    "  elif user == \"What is your Name?\":\n",
    "    print(\"My name is Anusha\")\n",
    "\n",
    "  elif user == \"What is your Father name?\":\n",
    "    print(\"My father name is Muhammad Iqbal\")\n",
    "\n",
    "  elif user == \"What is your Age?\":\n",
    "    print(\"My age is 23 years old\")\n",
    "\n",
    "  elif user == \"What is your Gender?\":\n",
    "    print(\"I am a Female\")\n",
    "\n",
    "  elif user == \"What is your Qualification?\":\n",
    "    print(\"I have done BSCS\")\n",
    "\n",
    "  elif user == \"What is your GPA?\":\n",
    "    print(\"I have scored 3.77\")\n",
    "\n",
    "  elif user == \"What is your Occupation?\":\n",
    "    print(\"I am a teacher and a freelancer as well\")\n",
    "\n",
    "  elif user == \"What is your Interests?\":\n",
    "    print(\"Reading novels, Shopping, Listening music\")\n",
    "\n",
    "  elif user == \"What is your Biggest Fear?\":\n",
    "    print(\"Not fulfilling my true potential\")\n",
    "\n",
    "  elif user == \"What is your Strength?\":\n",
    "    print(\"self confident, productive, optimistic\")\n",
    "\n",
    "  elif user == \"What is your Weakness?\":\n",
    "    print(\"Being more emotional\")\n",
    "\n",
    "  elif user == \"What is your Skills?\":\n",
    "    print(\"Responsible, Hard worker, Creative, Quick learner, Organised, Motivated\")\n",
    "\n",
    "  elif user == \"What things make you different from others?\":\n",
    "    print(\"Personality traits, morals and values, Adapt quiclky, Behavior\")\n",
    "\n",
    "  elif user == \"Where do you live?\":\n",
    "    print(\"I live in Karachi\")\n",
    "\n",
    "  elif user == \"What are 3 words that describe you best?\":\n",
    "    print(\"Practical, Energetic, Easy going\")\n",
    "\n",
    "  elif user == \"exit\":\n",
    "    break\n",
    "\n",
    "  else:\n",
    "    print(\"Incorrect Information. Data Not Found in Database...\")"
   ]
  },
  {
   "cell_type": "code",
   "execution_count": null,
   "id": "9958ab12-90c3-4cf8-9dcd-2ab5d2a0d672",
   "metadata": {},
   "outputs": [],
   "source": []
  },
  {
   "cell_type": "code",
   "execution_count": null,
   "id": "c8c6e715-1ae0-4b59-b51a-11e2e97993e2",
   "metadata": {},
   "outputs": [],
   "source": []
  }
 ],
 "metadata": {
  "kernelspec": {
   "display_name": "Python 3 (ipykernel)",
   "language": "python",
   "name": "python3"
  },
  "language_info": {
   "codemirror_mode": {
    "name": "ipython",
    "version": 3
   },
   "file_extension": ".py",
   "mimetype": "text/x-python",
   "name": "python",
   "nbconvert_exporter": "python",
   "pygments_lexer": "ipython3",
   "version": "3.11.7"
  }
 },
 "nbformat": 4,
 "nbformat_minor": 5
}
